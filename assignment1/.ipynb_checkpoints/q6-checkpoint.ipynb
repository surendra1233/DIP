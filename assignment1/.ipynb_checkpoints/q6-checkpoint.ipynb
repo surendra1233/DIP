{
 "cells": [
  {
   "cell_type": "code",
   "execution_count": 5,
   "metadata": {},
   "outputs": [],
   "source": [
    "import numpy as np\n",
    "import cv2\n",
    "import matplotlib.pyplot as plt"
   ]
  },
  {
   "cell_type": "code",
   "execution_count": 14,
   "metadata": {},
   "outputs": [],
   "source": [
    "def histEqualization(img):\n",
    "    u,c = np.unique(img,return_counts=True)\n",
    "    pdf = np.zeros((256,1))\n",
    "    for i in range(u.size):\n",
    "        pdf[u[i]] = c[i]\n",
    "#     pdf[u[:]] = c\n",
    "    cdf = (np.cumsum(pdf))/(img.size)\n",
    "    a = np.min(u)\n",
    "    out = (255/(1-a))*((cdf[img.flat] - a).reshape(img.shape))\n",
    "    return out"
   ]
  },
  {
   "cell_type": "code",
   "execution_count": 25,
   "metadata": {},
   "outputs": [
    {
     "data": {
      "text/plain": [
       "[<matplotlib.lines.Line2D at 0x7ffa19449cc0>]"
      ]
     },
     "execution_count": 25,
     "metadata": {},
     "output_type": "execute_result"
    },
    {
     "data": {
      "image/png": "[encoded data removed]",
      "text/plain": [
       "<Figure size 432x288 with 1 Axes>"
      ]
     },
     "metadata": {
      "needs_background": "light"
     },
     "output_type": "display_data"
    }
   ],
   "source": [
    "img = cv2.cvtColor(cv2.imread('./DIP_2019_A1/eyeref.png'),cv2.COLOR_BGR2GRAY)\n",
    "out = histEqualization(img)\n",
    "# a,b = np.histogram(out)\n",
    "# plt.plot(b[0:-1],a)\n",
    "# fig = plt.figure()\n",
    "# fig.add_subplot(121)\n",
    "# plt.title('original')\n",
    "# plt.imshow(img,'gray') \n",
    "# plt.subplot(1,2,2)\n",
    "# plt.title('after')\n",
    "# plt.imshow(out,'gray')"
   ]
  },
  {
   "cell_type": "code",
   "execution_count": null,
   "metadata": {},
   "outputs": [],
   "source": []
  },
  {
   "cell_type": "code",
   "execution_count": null,
   "metadata": {},
   "outputs": [],
   "source": []
  },
  {
   "cell_type": "code",
   "execution_count": null,
   "metadata": {},
   "outputs": [],
   "source": []
  }
 ],
 "metadata": {
  "kernelspec": {
   "display_name": "Python 3",
   "language": "python",
   "name": "python3"
  },
  "language_info": {
   "codemirror_mode": {
    "name": "ipython",
    "version": 3
   },
   "file_extension": ".py",
   "mimetype": "text/x-python",
   "name": "python",
   "nbconvert_exporter": "python",
   "pygments_lexer": "ipython3",
   "version": "3.7.3"
  }
 },
 "nbformat": 4,
 "nbformat_minor": 2
}
