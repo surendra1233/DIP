{
 "cells": [
  {
   "cell_type": "code",
   "execution_count": 20,
   "metadata": {},
   "outputs": [],
   "source": [
    "import numpy as np\n",
    "import cv2\n",
    "from matplotlib import pyplot as plt\n",
    "def freq_col(img):\n",
    "    filt = np.array([1,1000,1000000])\n",
    "    \n",
    "    a = np.dot(img,filt)\n",
    "    u,c = np.unique(a,return_counts=True)\n",
    "    ind = np.argmax(c)\n",
    "    \n",
    "#     print(u[ind])\n",
    "    return [ u[ind]%1000, (u[ind]//1000)%1000, (u[ind]//1000000)%1000 ]\n",
    "    "
   ]
  },
  {
   "cell_type": "code",
   "execution_count": 3,
   "metadata": {},
   "outputs": [
    {
     "data": {
      "text/plain": [
       "[8, 255, 21]"
      ]
     },
     "execution_count": 3,
     "metadata": {},
     "output_type": "execute_result"
    }
   ],
   "source": [
    "\n",
    "img = cv2.imread('./DIP_2019_A1/fg.jpg')\n",
    "freq_col(img)"
   ]
  },
  {
   "cell_type": "code",
   "execution_count": 47,
   "metadata": {},
   "outputs": [],
   "source": [
    "def dist(a,b):\n",
    "    f = np.array([1,1,1])\n",
    "    c = np.dot(np.power(a-b,2),f)\n",
    "    return np.power(c,1/2)\n",
    "\n",
    "fg = cv2.imread('./DIP_2019_A1/fg.jpg')\n",
    "bg = cv2.imread('./DIP_2019_A1/bg.jpg')\n",
    "\n",
    "green = np.array([0,255,0])\n",
    "dist_mat = dist(fg,green)\n",
    "bin_mat = dist_mat > 150\n",
    "out = bg\n",
    "out[bin_mat,:] = fg[bin_mat,:]\n",
    "cv2.imshow('mat',out)\n",
    "cv2.waitKey(0)\n",
    "cv2.destroyAllWindows()"
   ]
  },
  {
   "cell_type": "code",
   "execution_count": 10,
   "metadata": {},
   "outputs": [
    {
     "data": {
      "text/plain": [
       "(720, 1280)"
      ]
     },
     "execution_count": 10,
     "metadata": {},
     "output_type": "execute_result"
    }
   ],
   "source": []
  },
  {
   "cell_type": "code",
   "execution_count": null,
   "metadata": {},
   "outputs": [],
   "source": []
  }
 ],
 "metadata": {
  "kernelspec": {
   "display_name": "Python 3",
   "language": "python",
   "name": "python3"
  },
  "language_info": {
   "codemirror_mode": {
    "name": "ipython",
    "version": 3
   },
   "file_extension": ".py",
   "mimetype": "text/x-python",
   "name": "python",
   "nbconvert_exporter": "python",
   "pygments_lexer": "ipython3",
   "version": "3.7.3"
  }
 },
 "nbformat": 4,
 "nbformat_minor": 2
}
