{
 "cells": [
  {
   "cell_type": "code",
   "execution_count": 16,
   "metadata": {},
   "outputs": [],
   "source": [
    "import numpy as np\n",
    "import cv2\n",
    "import matplotlib.pyplot as plt"
   ]
  },
  {
   "cell_type": "code",
   "execution_count": 35,
   "metadata": {},
   "outputs": [],
   "source": [
    "def histEqualization(img):\n",
    "    img = img.astype(np.uint8)\n",
    "    u,c = np.unique(img,return_counts=True)\n",
    "    pdf = np.zeros((256,1))\n",
    "    for i in range(u.size):\n",
    "        pdf[u[i]] = c[i]\n",
    "#     pdf[u[:]] = c\n",
    "    cdf = (np.cumsum(pdf))/img.size\n",
    "    a = cdf[np.min(u)]\n",
    "    out = (255/(1-a))*((cdf[img.flat] - a).reshape(img.shape))\n",
    "    return out.astype(np.uint8)\n",
    "\n",
    "def histMatching(img,ref_img):\n",
    "    temp = histEqualization(img)\n",
    "    \n",
    "    #find the mapping of reference image\n",
    "    u,c = np.unique(ref_img,return_counts=True)\n",
    "    pdf = np.zeros((256,1))\n",
    "    for i in range(u.size):\n",
    "        pdf[u[i]] = c[i]\n",
    "#     pdf[u[:]] = c\n",
    "    cdf = np.cumsum(pdf)/img.size\n",
    "    a = cdf[np.min(u)]\n",
    "    temp1 = (255/(1-a))*(cdf[0:256] - a)\n",
    "    #inverse mapping\n",
    "    out_map = np.zeros(256)\n",
    "    out_map[temp1.astype(np.int)[:]] = range(0,256)\n",
    "    \n",
    "    out = out_map[temp.flat].reshape(img.shape)\n",
    "    return out.astype(np.uint8)"
   ]
  },
  {
   "cell_type": "code",
   "execution_count": 34,
   "metadata": {},
   "outputs": [
    {
     "data": {
      "text/plain": [
       "0"
      ]
     },
     "execution_count": 34,
     "metadata": {},
     "output_type": "execute_result"
    }
   ],
   "source": [
    "img = cv2.cvtColor(cv2.imread('./DIP_2019_A1/eyeref.png'),cv2.COLOR_BGR2GRAY)\n",
    "temp = histEqualization(img)\n",
    "out = histEqualization(temp)\n",
    "fig = plt.figure()\n",
    "fig.add_subplot(131)\n",
    "plt.title('original')\n",
    "plt.imshow(img,'gray') \n",
    "plt.subplot(1,3,2)\n",
    "plt.title('reference')\n",
    "plt.imshow(temp,'gray')\n",
    "plt.subplot(1,3,3)\n",
    "plt.title('after')\n",
    "plt.imshow(out,'gray')"
   ]
  },
  {
   "cell_type": "code",
   "execution_count": null,
   "metadata": {},
   "outputs": [],
   "source": []
  }
 ],
 "metadata": {
  "kernelspec": {
   "display_name": "Python 3",
   "language": "python",
   "name": "python3"
  },
  "language_info": {
   "codemirror_mode": {
    "name": "ipython",
    "version": 3
   },
   "file_extension": ".py",
   "mimetype": "text/x-python",
   "name": "python",
   "nbconvert_exporter": "python",
   "pygments_lexer": "ipython3",
   "version": "3.7.3"
  }
 },
 "nbformat": 4,
 "nbformat_minor": 2
}
