{
 "cells": [
  {
   "cell_type": "markdown",
   "metadata": {},
   "source": [
    "# Question-5"
   ]
  },
  {
   "cell_type": "markdown",
   "metadata": {},
   "source": [
    "# Part-1\n",
    "If we keep the MSB bits in the bitplane to 0, then the intensity of the image ranges from [0,127]. The image shifts towards darker intensity levels.The histogram's right half(>128) gets added to the left half(<128). \n",
    "\n",
    "**if i < 127 then new_histogram_count[i] = old_histogram_count[i] + old_histogram_count[i+128]**\n",
    "**else new_histogram_count[i] = 0**"
   ]
  },
  {
   "cell_type": "markdown",
   "metadata": {},
   "source": [
    "# Part-2\n",
    "If we keep the LSB bits in the bitplane to 0, then the intensity of the image takes only even numbers. TIn the histogram every alternate intensity count gets added to its predecessor.\n",
    "\n",
    "**if i%2==0 then new_histogram_count[i] = old_histogram_count[i] + old_histogram_count[i+1]**\n",
    "**else new_histogram_count[i] = 0**"
   ]
  },
  {
   "cell_type": "markdown",
   "metadata": {},
   "source": [
    "# Part-3\n",
    "+ A packets  containing  a  start  bit,  a  byteof  information  and  a  stop  bit. \n",
    "+ no. of bits per packet = 6bits\n",
    "+ no. of packets that can be sent through a 56K baud link in a second = 56000/6 = 93333.33 packets\n",
    "+ no. of packets required to send a 512 X 512 image = (512x512)/4 = 65563 packets\n",
    "+ no. of seconds taken by a 56K link to send a 512 X 512 image = 65563/9333.33 = 7.021 seconds\n",
    "+ no. of packets that can be sent through a 3000K baud link in a second = 3000000/6 = 500000 packets\n",
    "+ no. of packets that can be sent through a 56K baud link in a second = 65563/500000 = 0.13 Seconds"
   ]
  }
 ],
 "metadata": {
  "kernelspec": {
   "display_name": "Python 3",
   "language": "python",
   "name": "python3"
  },
  "language_info": {
   "codemirror_mode": {
    "name": "ipython",
    "version": 3
   },
   "file_extension": ".py",
   "mimetype": "text/x-python",
   "name": "python",
   "nbconvert_exporter": "python",
   "pygments_lexer": "ipython3",
   "version": "3.7.3"
  }
 },
 "nbformat": 4,
 "nbformat_minor": 2
}
