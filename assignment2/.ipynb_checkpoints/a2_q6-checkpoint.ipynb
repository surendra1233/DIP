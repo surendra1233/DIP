{
 "cells": [
  {
   "cell_type": "code",
   "execution_count": 1,
   "metadata": {},
   "outputs": [
    {
     "name": "stdout",
     "output_type": "stream",
     "text": [
      "10099.91604897616 2\n"
     ]
    },
    {
     "data": {
      "text/plain": [
       "array([[[ 8.0498576 ,  2.57029038,  5.31351033],\n",
       "        [ 9.37827826, 16.3877486 ,  5.01693612],\n",
       "        [ 4.67445305,  8.07880808,  7.1275313 ],\n",
       "        ...,\n",
       "        [ 7.84274288,  9.0680256 ,  8.62598664],\n",
       "        [ 6.56802026,  6.6483706 ,  8.69879388],\n",
       "        [ 9.36463821,  5.03727609,  7.38300009]],\n",
       "\n",
       "       [[ 8.94602626,  4.75815647, 10.10367959],\n",
       "        [ 8.96897705, 14.04120862, 11.87564549],\n",
       "        [15.03103984,  8.30901008, 12.15892858],\n",
       "        ...,\n",
       "        [13.16352876,  9.53850302, 14.63444159],\n",
       "        [12.42791624,  7.27215964, 11.81176036],\n",
       "        [ 5.53096026,  7.02989424,  5.92215519]],\n",
       "\n",
       "       [[10.76670513, 14.31290497,  6.3504356 ],\n",
       "        [12.39689318, 12.40071879,  7.60247621],\n",
       "        [13.00067377, 10.80297857, 11.47047603],\n",
       "        ...,\n",
       "        [13.76049594, 12.51641493, 11.37031816],\n",
       "        [14.15442861, 11.18174802,  7.87379575],\n",
       "        [ 9.82805041,  9.50619801,  9.34814281]],\n",
       "\n",
       "       ...,\n",
       "\n",
       "       [[17.64887566,  9.35136178,  7.39010528],\n",
       "        [14.55380942,  7.81719066, 13.95903289],\n",
       "        [16.57934491, 10.28570443, 13.81993741],\n",
       "        ...,\n",
       "        [13.87504078, 12.06800837, 12.60003281],\n",
       "        [ 9.62677304,  9.31817056,  8.92485209],\n",
       "        [12.45323245,  9.10020772,  8.81648311]],\n",
       "\n",
       "       [[10.97883975,  5.14520551,  9.49621034],\n",
       "        [18.59085864, 10.08013948, 14.40687604],\n",
       "        [14.76794368, 11.25300052, 12.43505477],\n",
       "        ...,\n",
       "        [12.64725641, 11.5680837 ,  8.55305367],\n",
       "        [11.33862129, 10.23049068,  6.34813286],\n",
       "        [11.94366753,  8.98870156,  7.47775296]],\n",
       "\n",
       "       [[ 9.16718891,  8.30786299, 11.31696417],\n",
       "        [10.99660962, 10.00241937,  9.30999806],\n",
       "        [ 8.41289451, 12.75830308,  9.93858877],\n",
       "        ...,\n",
       "        [ 7.17378728, 11.58301115,  8.17487759],\n",
       "        [ 5.72271804,  6.9713118 ,  8.75814406],\n",
       "        [12.36484625,  7.25845101,  4.44731202]]])"
      ]
     },
     "execution_count": 1,
     "metadata": {},
     "output_type": "execute_result"
    }
   ],
   "source": [
    "import numpy as np\n",
    "import matplotlib.pyplot as plt\n",
    "import cv2\n",
    "\n",
    "def BilateralFilter(img,s,r,k):\n",
    "    img=img.astype(np.float64)\n",
    "    d=int(k/2)\n",
    "    res=np.zeros(img.shape)\n",
    "    n_img=np.pad(img,((d,d),(d,d)),'constant')\n",
    "    x,y=np.meshgrid(np.linspace(-d,d,1),np.linspace(-d,d,1))\n",
    "    z=x**2+y**2\n",
    "    gs = np.exp(-( z / ( 2.0*s**2 ) ) )\n",
    "    for i in range(int(img.shape[0])):\n",
    "        for j in range(int(img.shape[1])):\n",
    "            I=img[i,j]*np.ones((k,k))\n",
    "            I=np.square(I-n_img[i:i+k,j:j+k])\n",
    "            gr=np.exp(-( I / ( 2.0*r**2 ) ) )\n",
    "            w=gs*gr\n",
    "            res[i,j]=(np.sum(w*n_img[i:i+k,j:j+k]))/np.sum(w)\n",
    "#     res=np.clip(res,0,255)\n",
    "    return res\n",
    "\n",
    "def CallBilateral(image,sigma_s,sigma_r,kernel_size):\n",
    "    image=cv2.imread(image)\n",
    "    image=cv2.cvtColor(image,cv2.COLOR_BGR2RGB)\n",
    "\n",
    "    result=np.zeros(image.shape)\n",
    "    for i in range(3):\n",
    "        result[:,:,i]=BilateralFilter(image[:,:,i],sigma_s,sigma_r,kernel_size)\n",
    "    \n",
    "    plt.figure()\n",
    "    res=result.astype(np.uint8)\n",
    "    plt.imshow(res)\n",
    "    return result.astype(np.float64)\n",
    "    \n",
    "sky_gt=cv2.imread('A2_resources/gt_sky.png')\n",
    "sky_gt=cv2.cvtColor(sky_gt,cv2.COLOR_BGR2RGB)\n",
    "\n",
    "result=CallBilateral('A2_resources/sky.png',77,4,5)\n",
    "print(np.linalg.norm(sky_gt.astype(np.float64)-result.astype(np.float64)),2)\n",
    "\n",
    "CallBilateral('A2_resources/noir.png',77,8.5,5)\n",
    "\n"
   ]
  },
  {
   "cell_type": "code",
   "execution_count": 25,
   "metadata": {},
   "outputs": [
    {
     "data": {
      "text/plain": [
       "array([0., 0.])"
      ]
     },
     "execution_count": 25,
     "metadata": {},
     "output_type": "execute_result"
    }
   ],
   "source": [
    "np.zeros(2)\n"
   ]
  }
 ],
 "metadata": {
  "kernelspec": {
   "display_name": "Python 3",
   "language": "python",
   "name": "python3"
  },
  "language_info": {
   "codemirror_mode": {
    "name": "ipython",
    "version": 3
   },
   "file_extension": ".py",
   "mimetype": "text/x-python",
   "name": "python",
   "nbconvert_exporter": "python",
   "pygments_lexer": "ipython3",
   "version": "3.7.3"
  }
 },
 "nbformat": 4,
 "nbformat_minor": 2
}
