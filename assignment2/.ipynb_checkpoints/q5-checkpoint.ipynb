{
 "cells": [
  {
   "cell_type": "markdown",
   "metadata": {},
   "source": [
    "# Question-5"
   ]
  },
  {
   "cell_type": "code",
   "execution_count": 120,
   "metadata": {},
   "outputs": [],
   "source": [
    "import numpy as np\n",
    "import matplotlib.pyplot as plt\n",
    "import cv2\n",
    "from time import time"
   ]
  },
  {
   "cell_type": "markdown",
   "metadata": {},
   "source": [
    "## Part-1"
   ]
  },
  {
   "cell_type": "code",
   "execution_count": 140,
   "metadata": {},
   "outputs": [],
   "source": [
    "def lowpass(img,k=3, s=1, padding=True):\n",
    "    img = img.astype(np.float64)\n",
    "    if padding:\n",
    "        pad_size = k//2\n",
    "        img = np.pad(img,(pad_size,pad_size+1),mode='edge')\n",
    "\n",
    "    h,w = img.shape[0],img.shape[1]\n",
    "    \n",
    "    rows = (h - k)//s +1\n",
    "    cols = (w - k)//s +1\n",
    "    out = np.zeros((rows,cols))\n",
    "    \n",
    "    \n",
    "    #non-vectorised code. Slowed than vectorised one and optimised one\n",
    "#     for i in range(rows):\n",
    "#         for j in range(cols):\n",
    "#             curr = 0\n",
    "#             for a in range(i,i+k):\n",
    "#                 for b in range(j,j+k):\n",
    "#                     curr += img[a,b]\n",
    "#             out[i,j] = curr/(k*k)\n",
    "     \n",
    "   #vectorised code. Faster than optimised so I used non-vectorised code.\n",
    "    for i in range(rows):\n",
    "        for j in range(cols):\n",
    "            curr = img[i:i+k,j:j+k]\n",
    "            out[i,j] = np.sum(curr)/(k*k)\n",
    "            \n",
    "    return out.astype(np.uint8)\n",
    "\n",
    "def median_filter(img,k = 3, s=1, padding=True):\n",
    "    img = img.astype(np.float64)\n",
    "    if padding:\n",
    "        pad_size = k//2\n",
    "        img = np.pad(img,(pad_size,pad_size),mode='constant')\n",
    "\n",
    "    h,w = img.shape[0],img.shape[1]\n",
    "    \n",
    "    rows = (h - k)//s +1\n",
    "    cols = (w - k)//s +1\n",
    "    \n",
    "    out = np.zeros((rows,cols))\n",
    "    \n",
    "    for i in range(rows):\n",
    "        for j in range(cols):\n",
    "            out[i,j] = np.median(img[i:i+k,j:j+k])\n",
    "\n",
    "    return out.astype(np.uint8)"
   ]
  },
  {
   "cell_type": "markdown",
   "metadata": {},
   "source": [
    "## Part-2"
   ]
  },
  {
   "cell_type": "code",
   "execution_count": 126,
   "metadata": {},
   "outputs": [],
   "source": [
    "def optim_lowpass(img, k=3, s=1, padding=True):\n",
    "    img = img.astype(np.float64)\n",
    "    if padding:\n",
    "        pad_size = k//2\n",
    "        img = np.pad(img,(pad_size,pad_size+1),mode='edge')\n",
    "\n",
    "    h,w = img.shape[0],img.shape[1]\n",
    "    \n",
    "    rows = (h - k)//s +1\n",
    "    cols = (w - k)//s +1\n",
    "    out = np.zeros((rows,cols))\n",
    "    \n",
    "    val = np.mean(np.mean(img[0:k,0:k],axis=0),axis=0)\n",
    "    for i in range(rows):\n",
    "        if i!=0:\n",
    "            val = out[i-1,0] + np.sum(img[i+k-1,0:k])/(k*k) - np.sum(img[i-1,0:k])/(k*k)\n",
    "        for j in range(cols):\n",
    "            out[i,j] = (val)\n",
    "            if j!=cols-1:\n",
    "                   val = val + np.sum(img[i:i+k,j+k])/(k*k) - np.sum(img[i:i+k,j])/(k*k)\n",
    "    return out.astype(np.uint8)"
   ]
  },
  {
   "cell_type": "code",
   "execution_count": 127,
   "metadata": {},
   "outputs": [],
   "source": [
    "k = [3,5,7,9]\n",
    "d = [64,128,256]\n",
    "out = np.zeros((3,4))\n",
    "out1 = np.zeros((3,4))\n",
    "m = 0\n",
    "n = 0\n",
    "for i in d:\n",
    "    img = np.ones((i,i))\n",
    "    for j in k:\n",
    "        a = time()\n",
    "        temp = lowpass(img,j)\n",
    "        b = time()\n",
    "        out[m,n] = b-a\n",
    "        n+=1\n",
    "    n = 0\n",
    "    m+=1\n",
    "m = n = 0\n",
    "for i in d:\n",
    "    img = np.ones((i,i))\n",
    "    for j in k:\n",
    "        a = time()\n",
    "        temp = optim_lowpass(img,j)\n",
    "        b = time()\n",
    "        out1[m,n] = b-a\n",
    "        n+=1\n",
    "    n = 0\n",
    "    m+=1"
   ]
  },
  {
   "cell_type": "code",
   "execution_count": 135,
   "metadata": {},
   "outputs": [
    {
     "data": {
      "image/png": "[encoded data removed]",
      "text/plain": [
       "<Figure size 720x720 with 1 Axes>"
      ]
     },
     "metadata": {
      "needs_background": "light"
     },
     "output_type": "display_data"
    },
    {
     "name": "stdout",
     "output_type": "stream",
     "text": [
      "dashed line is optimised code and smooth line is normal code\n"
     ]
    }
   ],
   "source": [
    "plt.figure(figsize=(10,10))\n",
    "plt.plot(k[:],out[0,:],color='green',label = \"size \"+str(d[0])+\" normal\")\n",
    "plt.plot(k[:],out[1,:],color='red',label = \"size \"+str(d[1])+\" normal\")\n",
    "plt.plot(k[:],out[2,:],color='blue',label = \"size \"+str(d[2])+\" normal\")\n",
    "\n",
    "plt.plot(k[:],out1[0,:],color='green',linestyle='dashed',label = \"size \"+str(d[0])+\" optimised\")\n",
    "plt.plot(k[:],out1[1,:],color='red',linestyle='dashed',label = \"size \"+str(d[1])+\" optimised\")\n",
    "plt.plot(k[:],out1[2,:],color='blue',linestyle='dashed',label = \"size \"+str(d[2])+\" optimised\")\n",
    "plt.legend()\n",
    "plt.show()\n",
    "print(\"dashed line is optimised code and smooth line is normal code\")\n"
   ]
  },
  {
   "cell_type": "markdown",
   "metadata": {},
   "source": [
    "## Part-3"
   ]
  },
  {
   "cell_type": "code",
   "execution_count": 144,
   "metadata": {},
   "outputs": [],
   "source": [
    "def finding_median(c,k):\n",
    "    a = 0\n",
    "    for i in range(c.size):\n",
    "        a += c[i]\n",
    "        if a > (k*k)//2:\n",
    "            return i\n",
    "    return 255\n",
    "\n",
    "def optim_median_filter(img,k = 3, s=1, padding=True):\n",
    "    if padding:\n",
    "        pad_size = k//2\n",
    "        img = np.pad(img,(pad_size,pad_size),mode='constant')\n",
    "\n",
    "    h,w = img.shape[0],img.shape[1]\n",
    "    \n",
    "    rows = (h - k)//s +1\n",
    "    cols = (w - k)//s +1\n",
    "    \n",
    "    out = np.zeros((rows,cols))\n",
    " \n",
    "    count = np.zeros((256,1))\n",
    "    \n",
    "    img = img.astype(np.uint8)\n",
    "    for i in img[0:k,0:k]:\n",
    "        count[i] +=1\n",
    "    \n",
    "    \n",
    "        \n",
    "    for i in range(rows):\n",
    "        if i!=0:\n",
    "            for l in img[i-1,0:k]:\n",
    "                count[l] -=1\n",
    "            for l in img[i+k-1,0:k]:\n",
    "                count[l] +=1\n",
    "        for j in range(cols):\n",
    "            out[i,j] = finding_median(count,k)\n",
    "            if j!=cols-1:\n",
    "                for l in img[i:i+k,j-1]:\n",
    "                    count[l] -=1\n",
    "                for l in img[i:i+k,j+k-1]:\n",
    "                    count[l] +=1\n",
    "                \n",
    "\n",
    "    return out.astype(np.uint8)\n",
    "\n",
    "# def median_filter3d(img,k = 3, s=1, padding=True):\n",
    "#     out = np.zeros(img.shape)\n",
    "#     for i in range(3):\n",
    "#         out[:,:,i] = median_filter(img[:,:,i],k)\n",
    "    \n",
    "#     return out.astype(np.uint8)"
   ]
  },
  {
   "cell_type": "code",
   "execution_count": 143,
   "metadata": {},
   "outputs": [
    {
     "ename": "IndexError",
     "evalue": "only integers, slices (`:`), ellipsis (`...`), numpy.newaxis (`None`) and integer or boolean arrays are valid indices",
     "output_type": "error",
     "traceback": [
      "\u001b[0;31m---------------------------------------------------------------------------\u001b[0m",
      "\u001b[0;31mIndexError\u001b[0m                                Traceback (most recent call last)",
      "\u001b[0;32m<ipython-input-143-41b0f3a74a5b>\u001b[0m in \u001b[0;36m<module>\u001b[0;34m\u001b[0m\n\u001b[1;32m     20\u001b[0m     \u001b[0;32mfor\u001b[0m \u001b[0mj\u001b[0m \u001b[0;32min\u001b[0m \u001b[0mk\u001b[0m\u001b[0;34m:\u001b[0m\u001b[0;34m\u001b[0m\u001b[0;34m\u001b[0m\u001b[0m\n\u001b[1;32m     21\u001b[0m         \u001b[0ma\u001b[0m \u001b[0;34m=\u001b[0m \u001b[0mtime\u001b[0m\u001b[0;34m(\u001b[0m\u001b[0;34m)\u001b[0m\u001b[0;34m\u001b[0m\u001b[0;34m\u001b[0m\u001b[0m\n\u001b[0;32m---> 22\u001b[0;31m         \u001b[0mtemp\u001b[0m \u001b[0;34m=\u001b[0m \u001b[0moptim_median_filter\u001b[0m\u001b[0;34m(\u001b[0m\u001b[0mimg\u001b[0m\u001b[0;34m,\u001b[0m\u001b[0mj\u001b[0m\u001b[0;34m)\u001b[0m\u001b[0;34m\u001b[0m\u001b[0;34m\u001b[0m\u001b[0m\n\u001b[0m\u001b[1;32m     23\u001b[0m         \u001b[0mb\u001b[0m \u001b[0;34m=\u001b[0m \u001b[0mtime\u001b[0m\u001b[0;34m(\u001b[0m\u001b[0;34m)\u001b[0m\u001b[0;34m\u001b[0m\u001b[0;34m\u001b[0m\u001b[0m\n\u001b[1;32m     24\u001b[0m         \u001b[0mout1\u001b[0m\u001b[0;34m[\u001b[0m\u001b[0mm\u001b[0m\u001b[0;34m,\u001b[0m\u001b[0mn\u001b[0m\u001b[0;34m]\u001b[0m \u001b[0;34m=\u001b[0m \u001b[0mb\u001b[0m\u001b[0;34m-\u001b[0m\u001b[0ma\u001b[0m\u001b[0;34m\u001b[0m\u001b[0;34m\u001b[0m\u001b[0m\n",
      "\u001b[0;32m<ipython-input-142-8501fc8be1e6>\u001b[0m in \u001b[0;36moptim_median_filter\u001b[0;34m(img, k, s, padding)\u001b[0m\n\u001b[1;32m     22\u001b[0m \u001b[0;34m\u001b[0m\u001b[0m\n\u001b[1;32m     23\u001b[0m     \u001b[0;32mfor\u001b[0m \u001b[0mi\u001b[0m \u001b[0;32min\u001b[0m \u001b[0mimg\u001b[0m\u001b[0;34m[\u001b[0m\u001b[0;36m0\u001b[0m\u001b[0;34m:\u001b[0m\u001b[0mk\u001b[0m\u001b[0;34m,\u001b[0m\u001b[0;36m0\u001b[0m\u001b[0;34m:\u001b[0m\u001b[0mk\u001b[0m\u001b[0;34m]\u001b[0m\u001b[0;34m.\u001b[0m\u001b[0mflat\u001b[0m\u001b[0;34m:\u001b[0m\u001b[0;34m\u001b[0m\u001b[0;34m\u001b[0m\u001b[0m\n\u001b[0;32m---> 24\u001b[0;31m         \u001b[0mcount\u001b[0m\u001b[0;34m[\u001b[0m\u001b[0mi\u001b[0m\u001b[0;34m]\u001b[0m \u001b[0;34m+=\u001b[0m\u001b[0;36m1\u001b[0m\u001b[0;34m\u001b[0m\u001b[0;34m\u001b[0m\u001b[0m\n\u001b[0m\u001b[1;32m     25\u001b[0m \u001b[0;34m\u001b[0m\u001b[0m\n\u001b[1;32m     26\u001b[0m \u001b[0;34m\u001b[0m\u001b[0m\n",
      "\u001b[0;31mIndexError\u001b[0m: only integers, slices (`:`), ellipsis (`...`), numpy.newaxis (`None`) and integer or boolean arrays are valid indices"
     ]
    }
   ],
   "source": [
    "k = [3,5,7,9]\n",
    "d = [64,128,256]\n",
    "out = np.zeros((3,4))\n",
    "out1 = np.zeros((3,4))\n",
    "m = 0\n",
    "n = 0\n",
    "for i in d:\n",
    "    img = np.ones((i,i))\n",
    "    for j in k:\n",
    "        a = time()\n",
    "        temp = median_filter(img,j)\n",
    "        b = time()\n",
    "        out[m,n] = b-a\n",
    "        n+=1\n",
    "    n = 0\n",
    "    m+=1\n",
    "m = n = 0\n",
    "for i in d:\n",
    "    img = np.ones((i,i))\n",
    "    for j in k:\n",
    "        a = time()\n",
    "        temp = optim_median_filter(img,j)\n",
    "        b = time()\n",
    "        out1[m,n] = b-a\n",
    "        n+=1\n",
    "    n = 0\n",
    "    m+=1"
   ]
  },
  {
   "cell_type": "code",
   "execution_count": null,
   "metadata": {},
   "outputs": [],
   "source": [
    "plt.figure(figsize=(10,10))\n",
    "plt.plot(k[:],out[0,:],color='green',label = \"size \"+str(d[0])+\" normal\")\n",
    "plt.plot(k[:],out[1,:],color='red',label = \"size \"+str(d[1])+\" normal\")\n",
    "plt.plot(k[:],out[2,:],color='blue',label = \"size \"+str(d[2])+\" normal\")\n",
    "\n",
    "plt.plot(k[:],out1[0,:],color='green',linestyle='dashed',label = \"size \"+str(d[0])+\" optimised\")\n",
    "plt.plot(k[:],out1[1,:],color='red',linestyle='dashed',label = \"size \"+str(d[1])+\" optimised\")\n",
    "plt.plot(k[:],out1[2,:],color='blue',linestyle='dashed',label = \"size \"+str(d[2])+\" optimised\")\n",
    "plt.legend()\n",
    "plt.show()\n",
    "print(\"dashed line is optimised code and smooth line is normal code\")\n"
   ]
  },
  {
   "cell_type": "code",
   "execution_count": null,
   "metadata": {},
   "outputs": [],
   "source": []
  }
 ],
 "metadata": {
  "kernelspec": {
   "display_name": "Python 3",
   "language": "python",
   "name": "python3"
  },
  "language_info": {
   "codemirror_mode": {
    "name": "ipython",
    "version": 3
   },
   "file_extension": ".py",
   "mimetype": "text/x-python",
   "name": "python",
   "nbconvert_exporter": "python",
   "pygments_lexer": "ipython3",
   "version": "3.7.3"
  }
 },
 "nbformat": 4,
 "nbformat_minor": 2
}
