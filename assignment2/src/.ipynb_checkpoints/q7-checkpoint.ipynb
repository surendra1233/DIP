{
 "cells": [
  {
   "cell_type": "code",
   "execution_count": 1,
   "metadata": {},
   "outputs": [],
   "source": [
    "import numpy as np\n",
    "import matplotlib.pyplot as plt\n",
    "import cv2"
   ]
  },
  {
   "cell_type": "code",
   "execution_count": 2,
   "metadata": {},
   "outputs": [],
   "source": [
    "def cross_bilateral_filtering(img,ref,sigma_d,sigma_r,fil_size=3,padding=True,s=1):\n",
    "\n",
    "    img = img.astype(np.float64)\n",
    "    if padding:\n",
    "        pad_size = fil_size//2\n",
    "        img = np.pad(img,(pad_size,pad_size),mode='constant')\n",
    "        ref = np.pad(ref,(pad_size,pad_size),mode='constant')\n",
    "\n",
    "    h,w = img.shape[0],img.shape[1]\n",
    "    \n",
    "    rows = (h - fil_size)//s +1\n",
    "    cols = (w - fil_size)//s +1\n",
    "    out = np.zeros((rows,cols))\n",
    "    \n",
    "    x = np.power(np.arange(fil_size) - fil_size//2,2)\n",
    "    y = x.copy().reshape(fil_size,1)\n",
    "    d = np.zeros((fil_size,fil_size))\n",
    "    d[:,:] = np.exp(-(1/(2*sigma_d*sigma_d))*(y + x))\n",
    "    \n",
    "    for i in range(rows):\n",
    "        for j in range(cols):\n",
    "            curr = ref[i:i+fil_size,j:j+fil_size]\n",
    "            curr_img = img[i:i+fil_size,j:j+fil_size]\n",
    "            \n",
    "            #calculate the filter\n",
    "            r = curr.copy()\n",
    "            r = np.exp((-1/(2*sigma_r*sigma_r))*(r - r[fil_size//2,fil_size//2]))\n",
    "            \n",
    "            fil = np.multiply(d,r)\n",
    "\n",
    "            out[i,j] = np.sum(np.multiply(curr_img,fil))/np.sum(fil[:,:])\n",
    "\n",
    "            \n",
    "    return out.astype(np.uint8) \n",
    "\n",
    "def cross_bilateral_filtering3d(img,ref,sigma_d,sigma_r,fil_size=3,padding=True,s=1):\n",
    "    out = np.zeros(img.shape)\n",
    "    for i in range(3):\n",
    "        out[:,:,i] = cross_bilateral_filtering(img[:,:,i],ref[:,:,i],sigma_d,sigma_r,fil_size,padding,s)\n",
    "    \n",
    "    return out.astype(np.uint8)"
   ]
  },
  {
   "cell_type": "code",
   "execution_count": 3,
   "metadata": {},
   "outputs": [],
   "source": [
    "ref = cv2.imread('../A2_resources/pots_flash.jpg')\n",
    "img = cv2.imread('../A2_resources/pots_no_flash.jpg')"
   ]
  },
  {
   "cell_type": "code",
   "execution_count": null,
   "metadata": {},
   "outputs": [],
   "source": [
    "out = cv2.cvtColor(cross_bilateral_filtering3d(img,ref,250,250),cv2.COLOR_BGR2RGB)\n",
    "plt.figure(figsize=(10,10))\n",
    "plt.imshow(out)\n",
    "plt.show()\n",
    "# 2638.6761832403763"
   ]
  },
  {
   "cell_type": "markdown",
   "metadata": {},
   "source": [
    "## Part-2"
   ]
  },
  {
   "cell_type": "markdown",
   "metadata": {},
   "source": [
    "Inverse Bilateral Filtering:- blurs an image at edges and preserves the homogeneous region.\n",
    "***Design:***\n",
    "\n",
    "\n",
    "***Applications:***\n",
    "+ This type of filter can be used when the image has noise similar to salt and pepper(mix of both can also be a scenario)\n",
    "+ The inverse bilateral filter can be used for analyzing local contrast while removing noise and keeping homogeneous regions the same."
   ]
  }
 ],
 "metadata": {
  "kernelspec": {
   "display_name": "Python 3",
   "language": "python",
   "name": "python3"
  },
  "language_info": {
   "codemirror_mode": {
    "name": "ipython",
    "version": 3
   },
   "file_extension": ".py",
   "mimetype": "text/x-python",
   "name": "python",
   "nbconvert_exporter": "python",
   "pygments_lexer": "ipython3",
   "version": "3.7.3"
  }
 },
 "nbformat": 4,
 "nbformat_minor": 2
}
