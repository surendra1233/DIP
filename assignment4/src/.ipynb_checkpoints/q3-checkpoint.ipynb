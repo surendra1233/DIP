{
 "cells": [
  {
   "cell_type": "code",
   "execution_count": 1,
   "metadata": {},
   "outputs": [],
   "source": [
    "import numpy as np\n",
    "import cv2\n",
    "from matplotlib import pyplot as plt"
   ]
  },
  {
   "cell_type": "code",
   "execution_count": 2,
   "metadata": {},
   "outputs": [],
   "source": [
    "def erosion_dilation(img,erosion=True,s=3):\n",
    "    padding=True\n",
    "    st = 1\n",
    "    if padding:\n",
    "        pad_size = s//2\n",
    "        img = np.pad(img,(pad_size,pad_size),mode='edge')\n",
    "    \n",
    "    h,w = img.shape[0],img.shape[1]\n",
    "    \n",
    "    rows = (h - s)//st +1\n",
    "    cols = (w - s)//st +1\n",
    "    out = np.zeros((rows,cols))\n",
    "    \n",
    "    for i in range(rows):\n",
    "        for j in range(cols):\n",
    "            curr = img[i:i+s,j:j+s]\n",
    "            if erosion:\n",
    "                out[i,j] = np.min(curr)\n",
    "            else:\n",
    "                out[i,j] = np.max(curr)\n",
    "\n",
    "    return out\n",
    "\n",
    "def two_pass(img):\n",
    "    cls = np.zeros(img.shape,dtype=np.int32)\n",
    "    #1st pass\n",
    "    neig = []\n",
    "    c = 0\n",
    "    if img[0,0]==0:\n",
    "        cls[0,0] = 0\n",
    "    else:\n",
    "        cls[0,0] = 1\n",
    "        c = 1\n",
    "    for i in range(img.shape[0]):\n",
    "        for j in range(img.shape[1]):\n",
    "            if i==0:\n",
    "                if j!=0:\n",
    "                    if img[i,j]==1 and img[i,j-1]==1:\n",
    "                        cls[i,j] = cls[i,j-1]\n",
    "                    elif img[i,j]==1:\n",
    "                        cls[i,j] = c+1\n",
    "                        c+=1\n",
    "            else:\n",
    "                if img[i,j]==1 and img[i-1,j]==1:\n",
    "                    cls[i,j] = cls[i-1,j]\n",
    "                    if j>0 and img[i,j-1]==1:\n",
    "                        cls[i,j] = np.min(np.array([cls[i-1,j],cls[i,j-1]]))\n",
    "                        if cls[i-1,j]!=cls[i,j-1]:\n",
    "                            neig.append(cls[i-1,j])\n",
    "                            neig.append(cls[i,j-1])\n",
    "                elif img[i,j]==1 and j>0 and img[i,j-1]==1:\n",
    "                    cls[i,j] = cls[i,j-1]\n",
    "                elif img[i,j]==1:\n",
    "                    cls[i,j] = c+1\n",
    "                    c+=1\n",
    "                    \n",
    "    #calculate the neigbourhood\n",
    "    arr = np.arange(c+1)\n",
    "    \n",
    "    for i in range(len(neig)//2):\n",
    "        j = min(neig[2*i],neig[2*i+1])\n",
    "        k = max(neig[2*i],neig[2*i+1])\n",
    "        arr[k] = j\n",
    "    \n",
    "    for i in range(c+1):\n",
    "        j = arr[i]\n",
    "        k = i\n",
    "        while j!=k:\n",
    "            k = j\n",
    "            j = arr[j]\n",
    "        arr[i] = j\n",
    "    out = cls.copy()\n",
    "    for i in range(img.shape[0]):\n",
    "        for j in range(img.shape[1]):\n",
    "            out[i,j] = arr[cls[i,j]]\n",
    "    \n",
    "    return out"
   ]
  },
  {
   "cell_type": "code",
   "execution_count": 3,
   "metadata": {},
   "outputs": [],
   "source": [
    "_,img = cv2.threshold(cv2.cvtColor(cv2.imread('DIP_2019_A4/coins.jpg'),cv2.COLOR_BGR2GRAY),127,255,cv2.THRESH_BINARY)\n",
    "img = img//255\n",
    "img[0:,0] = 1\n",
    "img[0,0:] = 1\n",
    "img[-1,0:] = 1\n",
    "img[0:,-1] = 1\n",
    "cls = two_pass(img)\n",
    "out = np.zeros(img.shape,dtype=int)\n",
    "out[cls==1] = 1"
   ]
  },
  {
   "cell_type": "code",
   "execution_count": null,
   "metadata": {},
   "outputs": [],
   "source": [
    "_,img = cv2.threshold(cv2.cvtColor(cv2.imread('DIP_2019_A4/coins.jpg'),cv2.COLOR_BGR2GRAY),127,255,cv2.THRESH_BINARY)\n",
    "fig = plt.figure()\n",
    "fig.set_size_inches(10, 10)\n",
    "fig.add_subplot(121)\n",
    "plt.imshow(img,'gray')\n",
    "plt.subplot(1,2,2)\n",
    "plt.imshow(out,'gray')\n",
    "plt.show()"
   ]
  },
  {
   "cell_type": "code",
   "execution_count": null,
   "metadata": {},
   "outputs": [],
   "source": [
    "_,img = cv2.threshold(cv2.cvtColor(cv2.imread('DIP_2019_A4/coins.jpg'),cv2.COLOR_BGR2GRAY),127,255,cv2.THRESH_BINARY)\n",
    "img = img//255\n",
    "img = erosion_dilation(img,erosion=True,s=2)\n",
    "cls = two_pass(img)\n",
    "arr,count = np.unique(cls,return_counts=True)\n",
    "# arr,count"
   ]
  },
  {
   "cell_type": "code",
   "execution_count": null,
   "metadata": {},
   "outputs": [],
   "source": [
    "out = np.zeros(img.shape,dtype=int)\n",
    "for i in range(1,arr.size):\n",
    "    if count[i] > 400:\n",
    "        out[cls==arr[i]] = 1\n",
    "fig = plt.figure()\n",
    "fig.set_size_inches(10, 10)\n",
    "fig.add_subplot(121)\n",
    "plt.imshow(img,'gray')\n",
    "plt.subplot(1,2,2)\n",
    "plt.imshow(out,'gray')\n",
    "plt.show()"
   ]
  },
  {
   "cell_type": "code",
   "execution_count": 112,
   "metadata": {},
   "outputs": [
    {
     "data": {
      "image/png": "[encoded data removed]",
      "text/plain": [
       "<Figure size 720x720 with 2 Axes>"
      ]
     },
     "metadata": {
      "needs_background": "light"
     },
     "output_type": "display_data"
    }
   ],
   "source": [
    "out = np.zeros(img.shape,dtype=int)\n",
    "for i in range(1,arr.size):\n",
    "    if count[i] < 400:\n",
    "        out[cls==arr[i]] = 1\n",
    "fig = plt.figure()\n",
    "fig.set_size_inches(10, 10)\n",
    "fig.add_subplot(121)\n",
    "plt.imshow(img,'gray')\n",
    "plt.subplot(1,2,2)\n",
    "plt.imshow(out,'gray')\n",
    "plt.show()"
   ]
  },
  {
   "cell_type": "code",
   "execution_count": null,
   "metadata": {},
   "outputs": [],
   "source": []
  }
 ],
 "metadata": {
  "kernelspec": {
   "display_name": "Python 3",
   "language": "python",
   "name": "python3"
  },
  "language_info": {
   "codemirror_mode": {
    "name": "ipython",
    "version": 3
   },
   "file_extension": ".py",
   "mimetype": "text/x-python",
   "name": "python",
   "nbconvert_exporter": "python",
   "pygments_lexer": "ipython3",
   "version": "3.7.3"
  }
 },
 "nbformat": 4,
 "nbformat_minor": 2
}
