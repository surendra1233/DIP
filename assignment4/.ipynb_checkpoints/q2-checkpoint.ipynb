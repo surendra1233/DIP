{
 "cells": [
  {
   "cell_type": "code",
   "execution_count": 161,
   "metadata": {},
   "outputs": [],
   "source": [
    "import numpy as np\n",
    "import cv2\n",
    "from matplotlib import pyplot as plt\n",
    "import colorsys\n",
    "import random\n"
   ]
  },
  {
   "cell_type": "code",
   "execution_count": 170,
   "metadata": {},
   "outputs": [],
   "source": [
    "def erosion_dilation(img,erosion=True,s=3):\n",
    "    padding=True\n",
    "    st = 1\n",
    "    if padding:\n",
    "        pad_size = s//2\n",
    "        img = np.pad(img,(pad_size,pad_size),mode='edge')\n",
    "    \n",
    "    h,w = img.shape[0],img.shape[1]\n",
    "    \n",
    "    rows = (h - s)//st +1\n",
    "    cols = (w - s)//st +1\n",
    "    out = np.zeros((rows,cols))\n",
    "    \n",
    "    for i in range(rows):\n",
    "        for j in range(cols):\n",
    "            curr = img[i:i+s,j:j+s]\n",
    "            if erosion:\n",
    "                out[i,j] = np.min(curr)\n",
    "            else:\n",
    "                out[i,j] = np.max(curr)\n",
    "\n",
    "    return out\n",
    "\n",
    "def two_pass(img):\n",
    "    cls = np.zeros(img.shape,dtype=np.int32)\n",
    "    #1st pass\n",
    "    neig = []\n",
    "    c = 0\n",
    "    if img[0,0]==0:\n",
    "        cls[0,0] = 0\n",
    "    else:\n",
    "        cls[0,0] = 1\n",
    "        c = 1\n",
    "    for i in range(img.shape[0]):\n",
    "        for j in range(img.shape[1]):\n",
    "            if i==0:\n",
    "                if j!=0:\n",
    "                    if img[i,j]==1 and img[i,j-1]==1:\n",
    "                        cls[i,j] = cls[i,j-1]\n",
    "                    elif img[i,j]==1:\n",
    "                        cls[i,j] = c+1\n",
    "                        c+=1\n",
    "            else:\n",
    "                if img[i,j]==1 and img[i-1,j]==1:\n",
    "                    cls[i,j] = cls[i-1,j]\n",
    "                    if j>0 and img[i,j-1]==1:\n",
    "                        cls[i,j] = np.min(np.array([cls[i-1,j],cls[i,j-1]]))\n",
    "                        if cls[i-1,j]!=cls[i,j-1]:\n",
    "                            neig.append(cls[i-1,j])\n",
    "                            neig.append(cls[i,j-1])\n",
    "                elif img[i,j]==1 and j>0 and img[i,j-1]==1:\n",
    "                    cls[i,j] = cls[i,j-1]\n",
    "                elif img[i,j]==1:\n",
    "                    cls[i,j] = c+1\n",
    "                    c+=1\n",
    "                    \n",
    "    #calculate the neigbourhood\n",
    "    arr = np.arange(c+1)\n",
    "    \n",
    "    for i in range(len(neig)//2):\n",
    "        j = min(neig[2*i],neig[2*i+1])\n",
    "        k = max(neig[2*i],neig[2*i+1])\n",
    "        arr[k] = j\n",
    "    \n",
    "    for i in range(c+1):\n",
    "        j = arr[i]\n",
    "        k = i\n",
    "        while j!=k:\n",
    "            k = j\n",
    "            j = arr[j]\n",
    "        arr[i] = j\n",
    "    out = cls.copy()\n",
    "    for i in range(img.shape[0]):\n",
    "        for j in range(img.shape[1]):\n",
    "            out[i,j] = arr[cls[i,j]]\n",
    "    \n",
    "#     u = np.unique(cls)\n",
    "    return out,arr\n",
    "\n",
    "def random_colors(N, bright=True):\n",
    "    \n",
    "    brightness = 1.0 if bright else 0.4\n",
    "    hsv = [(i / N, 1, brightness) for i in range(N)]\n",
    "    colors = list(map(lambda c: colorsys.hsv_to_rgb(*c), hsv))\n",
    "    random.shuffle(colors)\n",
    "    return colors\n"
   ]
  },
  {
   "cell_type": "code",
   "execution_count": 158,
   "metadata": {},
   "outputs": [
    {
     "data": {
      "image/png": "[encoded data removed]",
      "text/plain": [
       "<Figure size 432x288 with 1 Axes>"
      ]
     },
     "metadata": {
      "needs_background": "light"
     },
     "output_type": "display_data"
    }
   ],
   "source": [
    "_,img = cv2.threshold(cv2.cvtColor(cv2.imread('DIP_2019_A4/kidney.jpg'),cv2.COLOR_BGR2GRAY),128,255,cv2.THRESH_BINARY)\n",
    "img = img//255\n",
    "out1 = erosion_dilation(img,erosion=True,s=11)\n",
    "out1 = erosion_dilation(out1,erosion=False,s=11)\n",
    "plt.imshow(out1,'gray')\n",
    "plt.show()"
   ]
  },
  {
   "cell_type": "code",
   "execution_count": 171,
   "metadata": {},
   "outputs": [],
   "source": [
    "cls,arr = two_pass(out1)\n",
    "a,c = np.unique(cls,return_counts=True)\n",
    "c = c[1:]\n",
    "a = a[1:]\n",
    "out = out1.copy()\n",
    "\n",
    "for i in range(a.size):\n",
    "    if c[i]<300:\n",
    "        out[cls==a[i]] = 0\n",
    "\n",
    "new_cls = cls.copy()\n",
    "for i in range(a.size):\n",
    "    new_cls[cls==a[i]] = i\n",
    "    \n",
    "cols = random_colors(a.size)\n",
    "final_out = np.zeros((out.shape[0],out.shape[1],3),dtype=np.uint8)\n",
    "\n",
    "for i in range(out.shape[0]):\n",
    "    for j in range(out.shape[1]):\n",
    "        if out[i,j]==0:\n",
    "            final_out[i,j,:] = 0\n",
    "        else:\n",
    "            final_out[i,j,:] = cols[new_cls[i,j]]\n",
    "            final_out[i,j,:] *= 255"
   ]
  },
  {
   "cell_type": "code",
   "execution_count": 175,
   "metadata": {},
   "outputs": [
    {
     "data": {
      "image/png": "[encoded data removed]",
      "text/plain": [
       "<Figure size 720x720 with 1 Axes>"
      ]
     },
     "metadata": {
      "needs_background": "light"
     },
     "output_type": "display_data"
    }
   ],
   "source": [
    "fig = plt.figure()\n",
    "fig.set_size_inches(10, 10)\n",
    "plt.imshow(final_out)\n",
    "plt.show()"
   ]
  },
  {
   "cell_type": "code",
   "execution_count": 169,
   "metadata": {},
   "outputs": [
    {
     "data": {
      "text/plain": [
       "3"
      ]
     },
     "execution_count": 169,
     "metadata": {},
     "output_type": "execute_result"
    }
   ],
   "source": [
    "len(cols[0])"
   ]
  },
  {
   "cell_type": "code",
   "execution_count": null,
   "metadata": {},
   "outputs": [],
   "source": []
  }
 ],
 "metadata": {
  "kernelspec": {
   "display_name": "Python 3",
   "language": "python",
   "name": "python3"
  },
  "language_info": {
   "codemirror_mode": {
    "name": "ipython",
    "version": 3
   },
   "file_extension": ".py",
   "mimetype": "text/x-python",
   "name": "python",
   "nbconvert_exporter": "python",
   "pygments_lexer": "ipython3",
   "version": "3.7.3"
  }
 },
 "nbformat": 4,
 "nbformat_minor": 2
}
